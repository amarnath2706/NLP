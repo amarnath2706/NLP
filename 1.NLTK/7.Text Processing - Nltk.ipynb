{
 "cells": [
  {
   "cell_type": "code",
   "execution_count": 3,
   "metadata": {},
   "outputs": [
    {
     "name": "stderr",
     "output_type": "stream",
     "text": [
      "D:\\Anaconda3\\lib\\site-packages\\sklearn\\feature_extraction\\image.py:167: DeprecationWarning: `np.int` is a deprecated alias for the builtin `int`. To silence this warning, use `int` by itself. Doing this will not modify any behavior and is safe. When replacing `np.int`, you may wish to use e.g. `np.int64` or `np.int32` to specify the precision. If you wish to review your current use, check the release note link for additional information.\n",
      "Deprecated in NumPy 1.20; for more details and guidance: https://numpy.org/devdocs/release/1.20.0-notes.html#deprecations\n",
      "  dtype=np.int):\n",
      "D:\\Anaconda3\\lib\\site-packages\\sklearn\\linear_model\\least_angle.py:30: DeprecationWarning: `np.float` is a deprecated alias for the builtin `float`. To silence this warning, use `float` by itself. Doing this will not modify any behavior and is safe. If you specifically wanted the numpy scalar type, use `np.float64` here.\n",
      "Deprecated in NumPy 1.20; for more details and guidance: https://numpy.org/devdocs/release/1.20.0-notes.html#deprecations\n",
      "  method='lar', copy_X=True, eps=np.finfo(np.float).eps,\n",
      "D:\\Anaconda3\\lib\\site-packages\\sklearn\\linear_model\\least_angle.py:167: DeprecationWarning: `np.float` is a deprecated alias for the builtin `float`. To silence this warning, use `float` by itself. Doing this will not modify any behavior and is safe. If you specifically wanted the numpy scalar type, use `np.float64` here.\n",
      "Deprecated in NumPy 1.20; for more details and guidance: https://numpy.org/devdocs/release/1.20.0-notes.html#deprecations\n",
      "  method='lar', copy_X=True, eps=np.finfo(np.float).eps,\n",
      "D:\\Anaconda3\\lib\\site-packages\\sklearn\\linear_model\\least_angle.py:284: DeprecationWarning: `np.float` is a deprecated alias for the builtin `float`. To silence this warning, use `float` by itself. Doing this will not modify any behavior and is safe. If you specifically wanted the numpy scalar type, use `np.float64` here.\n",
      "Deprecated in NumPy 1.20; for more details and guidance: https://numpy.org/devdocs/release/1.20.0-notes.html#deprecations\n",
      "  eps=np.finfo(np.float).eps, copy_Gram=True, verbose=0,\n",
      "D:\\Anaconda3\\lib\\site-packages\\sklearn\\linear_model\\least_angle.py:862: DeprecationWarning: `np.float` is a deprecated alias for the builtin `float`. To silence this warning, use `float` by itself. Doing this will not modify any behavior and is safe. If you specifically wanted the numpy scalar type, use `np.float64` here.\n",
      "Deprecated in NumPy 1.20; for more details and guidance: https://numpy.org/devdocs/release/1.20.0-notes.html#deprecations\n",
      "  eps=np.finfo(np.float).eps, copy_X=True, fit_path=True,\n",
      "D:\\Anaconda3\\lib\\site-packages\\sklearn\\linear_model\\least_angle.py:1101: DeprecationWarning: `np.float` is a deprecated alias for the builtin `float`. To silence this warning, use `float` by itself. Doing this will not modify any behavior and is safe. If you specifically wanted the numpy scalar type, use `np.float64` here.\n",
      "Deprecated in NumPy 1.20; for more details and guidance: https://numpy.org/devdocs/release/1.20.0-notes.html#deprecations\n",
      "  eps=np.finfo(np.float).eps, copy_X=True, fit_path=True,\n",
      "D:\\Anaconda3\\lib\\site-packages\\sklearn\\linear_model\\least_angle.py:1127: DeprecationWarning: `np.float` is a deprecated alias for the builtin `float`. To silence this warning, use `float` by itself. Doing this will not modify any behavior and is safe. If you specifically wanted the numpy scalar type, use `np.float64` here.\n",
      "Deprecated in NumPy 1.20; for more details and guidance: https://numpy.org/devdocs/release/1.20.0-notes.html#deprecations\n",
      "  eps=np.finfo(np.float).eps, positive=False):\n",
      "D:\\Anaconda3\\lib\\site-packages\\sklearn\\linear_model\\least_angle.py:1362: DeprecationWarning: `np.float` is a deprecated alias for the builtin `float`. To silence this warning, use `float` by itself. Doing this will not modify any behavior and is safe. If you specifically wanted the numpy scalar type, use `np.float64` here.\n",
      "Deprecated in NumPy 1.20; for more details and guidance: https://numpy.org/devdocs/release/1.20.0-notes.html#deprecations\n",
      "  max_n_alphas=1000, n_jobs=None, eps=np.finfo(np.float).eps,\n",
      "D:\\Anaconda3\\lib\\site-packages\\sklearn\\linear_model\\least_angle.py:1602: DeprecationWarning: `np.float` is a deprecated alias for the builtin `float`. To silence this warning, use `float` by itself. Doing this will not modify any behavior and is safe. If you specifically wanted the numpy scalar type, use `np.float64` here.\n",
      "Deprecated in NumPy 1.20; for more details and guidance: https://numpy.org/devdocs/release/1.20.0-notes.html#deprecations\n",
      "  max_n_alphas=1000, n_jobs=None, eps=np.finfo(np.float).eps,\n",
      "D:\\Anaconda3\\lib\\site-packages\\sklearn\\linear_model\\least_angle.py:1738: DeprecationWarning: `np.float` is a deprecated alias for the builtin `float`. To silence this warning, use `float` by itself. Doing this will not modify any behavior and is safe. If you specifically wanted the numpy scalar type, use `np.float64` here.\n",
      "Deprecated in NumPy 1.20; for more details and guidance: https://numpy.org/devdocs/release/1.20.0-notes.html#deprecations\n",
      "  eps=np.finfo(np.float).eps, copy_X=True, positive=False):\n"
     ]
    }
   ],
   "source": [
    "# import necessary libraries \n",
    "import nltk\n",
    "import string\n",
    "import re"
   ]
  },
  {
   "cell_type": "code",
   "execution_count": 4,
   "metadata": {},
   "outputs": [
    {
     "data": {
      "text/plain": [
       "' an airline is a company that provides air transport services for traveling passengers and freight. \\nairlines utilize aircraft to supply these services and may form partnerships or alliances with other airlines for codeshare agreements, in which they both offer and operate the same flight. \\ngenerally, airline companies are recognized with an air operating certificate or license issued by a governmental aviation body. \\nairlines may be scheduled or charter operators.\\nairline ownership has seen a shift from mostly personal ownership until the 1930s to government-ownership of major airlines from the 1940s to 1980s and back to large-scale privatization following the mid-1980s.\\nsince the 1980s, there has also been a trend of major airline mergers and the formation of airline alliances.\\nthe largest alliances are star alliance, skyteam and oneworld, and these three collectively accounted for more than 60% of global commercial air traffic in 2015.\\nairline alliances coordinate their passenger service programs (such as lounges and frequent-flyer programs), offer special interline tickets and often engage in extensive codesharing (sometimes systemwide).\\nas of 2019, the largest airline by passengers carried and fleet size was the american airlines group, while delta air lines was the largest by revenue.\\nlufthansa group was the largest by number of employees, fedex express by freight tonne-kilometres, turkish airlines by number of countries served and ups airlines by number of destinations served[9] (though united airlines was the largest passenger airline by number of destinations served).\\n'"
      ]
     },
     "execution_count": 4,
     "metadata": {},
     "output_type": "execute_result"
    }
   ],
   "source": [
    "#Covert the text into lower case\n",
    "def lowercase_text(text): \n",
    "    return text.lower() \n",
    "  \n",
    "input_str = \"\"\" An airline is a company that provides air transport services for traveling passengers and freight. \n",
    "Airlines utilize aircraft to supply these services and may form partnerships or alliances with other airlines for codeshare agreements, in which they both offer and operate the same flight. \n",
    "Generally, airline companies are recognized with an air operating certificate or license issued by a governmental aviation body. \n",
    "Airlines may be scheduled or charter operators. from the 1940s to 1980s and back to large-scale privatization following the mid-1980s.\n",
    "Since the 1980s, there has also been a trend of major airline mergers and the formation of airline alliances.\n",
    "The largest alliances are Star Alliance, SkyTeam and Oneworld, and these three collectively accounted for more than 60% of global commercial air traffic in 2015.\n",
    "Airline alliances coordinate their passenger service programs (such as lounges and frequent-flyer programs), offer special interline tickets and often engage in extensive codesharing (sometimes systemwide).\n",
    "As of 2019, the largest airline by passengers carried and fleet size was the American Airlines Group, while Delta Air Lines was the largest by revenue.\n",
    "Lufthansa Group was the largest by number of employees, FedEx Express by freight tonne-kilometres, Turkish Airlines by number of countries served and UPS Airlines by number of destinations served[9] (though United Airlines was the largest passenger airline by number of destinations served).\n",
    "\"\"\"\n",
    "lowercase_text(input_str) "
   ]
  },
  {
   "cell_type": "code",
   "execution_count": 5,
   "metadata": {},
   "outputs": [
    {
     "data": {
      "text/plain": [
       "' Airline ownership has seen a shift from mostly personal ownership until the s to government-ownership of major airlines.'"
      ]
     },
     "execution_count": 5,
     "metadata": {},
     "output_type": "execute_result"
    }
   ],
   "source": [
    "# Removing numbers \n",
    "def remove_num(text): \n",
    "    result = re.sub(r'\\d+', '', text) \n",
    "    return result \n",
    "  \n",
    "input_s = \"\"\" Airline ownership has seen a shift from mostly personal ownership until the 1930s to government-ownership of major airlines.\"\"\"\n",
    "remove_num(input_s) "
   ]
  },
  {
   "cell_type": "code",
   "execution_count": 7,
   "metadata": {},
   "outputs": [
    {
     "data": {
      "text/plain": [
       "'Airline ownership has seen a shift from mostly personal ownership until the one thousand, nine hundred and thirty to government-ownership of major airlines.'"
      ]
     },
     "execution_count": 7,
     "metadata": {},
     "output_type": "execute_result"
    }
   ],
   "source": [
    "#Numbers or digits to corresponding words using inflect\n",
    "# import the library \n",
    "import inflect \n",
    "q = inflect.engine() \n",
    "  \n",
    "# convert number into text \n",
    "def convert_num(text): \n",
    "    # split strings into list of texts \n",
    "    temp_string = text.split() \n",
    "    # initialise empty list \n",
    "    new_str = [] \n",
    "  \n",
    "    for word in temp_string: \n",
    "        # if text is a digit, convert the digit \n",
    "        # to numbers and append into the new_str list \n",
    "        if word.isdigit(): \n",
    "            temp = q.number_to_words(word) \n",
    "            new_str.append(temp) \n",
    "  \n",
    "        # append the texts as it is \n",
    "        else: \n",
    "            new_str.append(word) \n",
    "  \n",
    "    # join the texts of new_str to form a string \n",
    "    temp_str = ' '.join(new_str) \n",
    "    return temp_str \n",
    "  \n",
    "input_str = 'Airline ownership has seen a shift from mostly personal ownership until the 1930 to government-ownership of major airlines.'\n",
    "convert_num(input_str)"
   ]
  },
  {
   "cell_type": "code",
   "execution_count": 8,
   "metadata": {},
   "outputs": [
    {
     "data": {
      "text/plain": [
       "' An airline is a company that provides air transport services for traveling passengers and freight \\nAirlines utilize aircraft to supply these services and may form partnerships or alliances with other airlines for codeshare agreements in which they both offer and operate the same flight \\nGenerally airline companies are recognized with an air operating certificate or license issued by a governmental aviation body \\nAirlines may be scheduled or charter operators from the 1940s to 1980s and back to largescale privatization following the mid1980s\\nSince the 1980s there has also been a trend of major airline mergers and the formation of airline alliances\\nThe largest alliances are Star Alliance SkyTeam and Oneworld and these three collectively accounted for more than 60 of global commercial air traffic in 2015\\nAirline alliances coordinate their passenger service programs such as lounges and frequentflyer programs offer special interline tickets and often engage in extensive codesharing sometimes systemwide\\nAs of 2019 the largest airline by passengers carried and fleet size was the American Airlines Group while Delta Air Lines was the largest by revenue\\nLufthansa Group was the largest by number of employees FedEx Express by freight tonnekilometres Turkish Airlines by number of countries served and UPS Airlines by number of destinations served9 though United Airlines was the largest passenger airline by number of destinations served\\n'"
      ]
     },
     "execution_count": 8,
     "metadata": {},
     "output_type": "execute_result"
    }
   ],
   "source": [
    "#Remove Punctuation\n",
    "def rem_punct(text): \n",
    "    translator = str.maketrans('', '', string.punctuation) \n",
    "    return text.translate(translator) \n",
    "  \n",
    "input_str = \"\"\"!!!! An airline is a company that provides air transport services for traveling passengers and freight. \n",
    "Airlines utilize aircraft to supply these services and may form partnerships or alliances with other airlines for codeshare agreements, in which they both offer and operate the same flight. \n",
    "Generally, airline companies are recognized with an air operating certificate or license issued by a governmental aviation body. \n",
    "Airlines may be scheduled or charter operators. from the 1940s to 1980s and back to large-scale privatization following the mid-1980s.\n",
    "Since the 1980s, there has also been a trend of major airline mergers and the formation of airline alliances.\n",
    "The largest alliances are Star Alliance, SkyTeam and Oneworld, and these three collectively accounted for more than 60% of global commercial air traffic in 2015.\n",
    "Airline alliances coordinate their passenger service programs (such as lounges and frequent-flyer programs), offer special interline tickets and often engage in extensive codesharing (sometimes systemwide).\n",
    "As of 2019, the largest airline by passengers carried and fleet size was the American Airlines Group, while Delta Air Lines was the largest by revenue.\n",
    "Lufthansa Group was the largest by number of employees, FedEx Express by freight tonne-kilometres, Turkish Airlines by number of countries served and UPS Airlines by number of destinations served[9] (though United Airlines was the largest passenger airline by number of destinations served).\n",
    "\"\"\"\n",
    "rem_punct(input_str) "
   ]
  },
  {
   "cell_type": "code",
   "execution_count": 9,
   "metadata": {},
   "outputs": [
    {
     "name": "stderr",
     "output_type": "stream",
     "text": [
      "[nltk_data] Downloading package stopwords to\n",
      "[nltk_data]     C:\\Users\\Asus-2020\\AppData\\Roaming\\nltk_data...\n",
      "[nltk_data]   Package stopwords is already up-to-date!\n",
      "[nltk_data] Downloading package punkt to\n",
      "[nltk_data]     C:\\Users\\Asus-2020\\AppData\\Roaming\\nltk_data...\n",
      "[nltk_data]   Package punkt is already up-to-date!\n"
     ]
    },
    {
     "data": {
      "text/plain": [
       "['An',\n",
       " 'airline',\n",
       " 'company',\n",
       " 'provides',\n",
       " 'air',\n",
       " 'transport',\n",
       " 'services',\n",
       " 'traveling',\n",
       " 'passengers',\n",
       " 'freight',\n",
       " '.',\n",
       " 'Airlines',\n",
       " 'utilize',\n",
       " 'aircraft',\n",
       " 'supply',\n",
       " 'services',\n",
       " 'may',\n",
       " 'form',\n",
       " 'partnerships',\n",
       " 'alliances',\n",
       " 'airlines',\n",
       " 'codeshare',\n",
       " 'agreements',\n",
       " ',',\n",
       " 'offer',\n",
       " 'operate',\n",
       " 'flight',\n",
       " '.',\n",
       " 'Generally',\n",
       " ',',\n",
       " 'airline',\n",
       " 'companies',\n",
       " 'recognized',\n",
       " 'air',\n",
       " 'operating',\n",
       " 'certificate',\n",
       " 'license',\n",
       " 'issued',\n",
       " 'governmental',\n",
       " 'aviation',\n",
       " 'body',\n",
       " '.',\n",
       " 'Airlines',\n",
       " 'may',\n",
       " 'scheduled',\n",
       " 'charter',\n",
       " 'operators',\n",
       " '.',\n",
       " '1940s',\n",
       " '1980s',\n",
       " 'back',\n",
       " 'large-scale',\n",
       " 'privatization',\n",
       " 'following',\n",
       " 'mid-1980s',\n",
       " '.',\n",
       " 'Since',\n",
       " '1980s',\n",
       " ',',\n",
       " 'also',\n",
       " 'trend',\n",
       " 'major',\n",
       " 'airline',\n",
       " 'mergers',\n",
       " 'formation',\n",
       " 'airline',\n",
       " 'alliances',\n",
       " '.',\n",
       " 'The',\n",
       " 'largest',\n",
       " 'alliances',\n",
       " 'Star',\n",
       " 'Alliance',\n",
       " ',',\n",
       " 'SkyTeam',\n",
       " 'Oneworld',\n",
       " ',',\n",
       " 'three',\n",
       " 'collectively',\n",
       " 'accounted',\n",
       " '60',\n",
       " '%',\n",
       " 'global',\n",
       " 'commercial',\n",
       " 'air',\n",
       " 'traffic',\n",
       " '2015',\n",
       " '.',\n",
       " 'Airline',\n",
       " 'alliances',\n",
       " 'coordinate',\n",
       " 'passenger',\n",
       " 'service',\n",
       " 'programs',\n",
       " '(',\n",
       " 'lounges',\n",
       " 'frequent-flyer',\n",
       " 'programs',\n",
       " ')',\n",
       " ',',\n",
       " 'offer',\n",
       " 'special',\n",
       " 'interline',\n",
       " 'tickets',\n",
       " 'often',\n",
       " 'engage',\n",
       " 'extensive',\n",
       " 'codesharing',\n",
       " '(',\n",
       " 'sometimes',\n",
       " 'systemwide',\n",
       " ')',\n",
       " '.',\n",
       " 'As',\n",
       " '2019',\n",
       " ',',\n",
       " 'largest',\n",
       " 'airline',\n",
       " 'passengers',\n",
       " 'carried',\n",
       " 'fleet',\n",
       " 'size',\n",
       " 'American',\n",
       " 'Airlines',\n",
       " 'Group',\n",
       " ',',\n",
       " 'Delta',\n",
       " 'Air',\n",
       " 'Lines',\n",
       " 'largest',\n",
       " 'revenue',\n",
       " '.',\n",
       " 'Lufthansa',\n",
       " 'Group',\n",
       " 'largest',\n",
       " 'number',\n",
       " 'employees',\n",
       " ',',\n",
       " 'FedEx',\n",
       " 'Express',\n",
       " 'freight',\n",
       " 'tonne-kilometres',\n",
       " ',',\n",
       " 'Turkish',\n",
       " 'Airlines',\n",
       " 'number',\n",
       " 'countries',\n",
       " 'served',\n",
       " 'UPS',\n",
       " 'Airlines',\n",
       " 'number',\n",
       " 'destinations',\n",
       " 'served',\n",
       " '[',\n",
       " '9',\n",
       " ']',\n",
       " '(',\n",
       " 'though',\n",
       " 'United',\n",
       " 'Airlines',\n",
       " 'largest',\n",
       " 'passenger',\n",
       " 'airline',\n",
       " 'number',\n",
       " 'destinations',\n",
       " 'served',\n",
       " ')',\n",
       " '.']"
      ]
     },
     "execution_count": 9,
     "metadata": {},
     "output_type": "execute_result"
    }
   ],
   "source": [
    "#Remove stopwords\n",
    "# importing nltk library\n",
    "from nltk.corpus import stopwords \n",
    "from nltk.tokenize import word_tokenize \n",
    "\n",
    "nltk.download('stopwords')\n",
    "nltk.download('punkt')\n",
    "  \n",
    "# remove stopwords function \n",
    "def rem_stopwords(text): \n",
    "    stop_words = set(stopwords.words(\"english\")) \n",
    "    word_tokens = word_tokenize(text) \n",
    "    filtered_text = [word for word in word_tokens if word not in stop_words] \n",
    "    return filtered_text \n",
    "  \n",
    "ex_text = \"\"\" An airline is a company that provides air transport services for traveling passengers and freight. \n",
    "Airlines utilize aircraft to supply these services and may form partnerships or alliances with other airlines for codeshare agreements, in which they both offer and operate the same flight. \n",
    "Generally, airline companies are recognized with an air operating certificate or license issued by a governmental aviation body. \n",
    "Airlines may be scheduled or charter operators. from the 1940s to 1980s and back to large-scale privatization following the mid-1980s.\n",
    "Since the 1980s, there has also been a trend of major airline mergers and the formation of airline alliances.\n",
    "The largest alliances are Star Alliance, SkyTeam and Oneworld, and these three collectively accounted for more than 60% of global commercial air traffic in 2015.\n",
    "Airline alliances coordinate their passenger service programs (such as lounges and frequent-flyer programs), offer special interline tickets and often engage in extensive codesharing (sometimes systemwide).\n",
    "As of 2019, the largest airline by passengers carried and fleet size was the American Airlines Group, while Delta Air Lines was the largest by revenue.\n",
    "Lufthansa Group was the largest by number of employees, FedEx Express by freight tonne-kilometres, Turkish Airlines by number of countries served and UPS Airlines by number of destinations served[9] (though United Airlines was the largest passenger airline by number of destinations served).\n",
    "\"\"\"\n",
    "rem_stopwords(ex_text)"
   ]
  },
  {
   "cell_type": "code",
   "execution_count": 10,
   "metadata": {},
   "outputs": [
    {
     "data": {
      "text/plain": [
       "['An',\n",
       " 'airlin',\n",
       " 'is',\n",
       " 'a',\n",
       " 'compani',\n",
       " 'that',\n",
       " 'provid',\n",
       " 'air',\n",
       " 'transport',\n",
       " 'servic',\n",
       " 'for',\n",
       " 'travel',\n",
       " 'passeng',\n",
       " 'and',\n",
       " 'freight',\n",
       " '.',\n",
       " 'airlin',\n",
       " 'util',\n",
       " 'aircraft',\n",
       " 'to',\n",
       " 'suppli',\n",
       " 'these',\n",
       " 'servic',\n",
       " 'and',\n",
       " 'may',\n",
       " 'form',\n",
       " 'partnership',\n",
       " 'or',\n",
       " 'allianc',\n",
       " 'with',\n",
       " 'other',\n",
       " 'airlin',\n",
       " 'for',\n",
       " 'codeshar',\n",
       " 'agreement',\n",
       " ',',\n",
       " 'in',\n",
       " 'which',\n",
       " 'they',\n",
       " 'both',\n",
       " 'offer',\n",
       " 'and',\n",
       " 'oper',\n",
       " 'the',\n",
       " 'same',\n",
       " 'flight',\n",
       " '.',\n",
       " 'gener',\n",
       " ',',\n",
       " 'airlin',\n",
       " 'compani',\n",
       " 'are',\n",
       " 'recogn',\n",
       " 'with',\n",
       " 'an',\n",
       " 'air',\n",
       " 'oper',\n",
       " 'certif',\n",
       " 'or',\n",
       " 'licens',\n",
       " 'issu',\n",
       " 'by',\n",
       " 'a',\n",
       " 'government',\n",
       " 'aviat',\n",
       " 'bodi',\n",
       " '.',\n",
       " 'airlin',\n",
       " 'may',\n",
       " 'be',\n",
       " 'schedul',\n",
       " 'or',\n",
       " 'charter',\n",
       " 'oper',\n",
       " '.',\n",
       " 'from',\n",
       " 'the',\n",
       " '1940',\n",
       " 'to',\n",
       " '1980',\n",
       " 'and',\n",
       " 'back',\n",
       " 'to',\n",
       " 'large-scal',\n",
       " 'privat',\n",
       " 'follow',\n",
       " 'the',\n",
       " 'mid-1980',\n",
       " '.',\n",
       " 'sinc',\n",
       " 'the',\n",
       " '1980',\n",
       " ',',\n",
       " 'there',\n",
       " 'ha',\n",
       " 'also',\n",
       " 'been',\n",
       " 'a',\n",
       " 'trend',\n",
       " 'of',\n",
       " 'major',\n",
       " 'airlin',\n",
       " 'merger',\n",
       " 'and',\n",
       " 'the',\n",
       " 'format',\n",
       " 'of',\n",
       " 'airlin',\n",
       " 'allianc',\n",
       " '.',\n",
       " 'the',\n",
       " 'largest',\n",
       " 'allianc',\n",
       " 'are',\n",
       " 'star',\n",
       " 'allianc',\n",
       " ',',\n",
       " 'skyteam',\n",
       " 'and',\n",
       " 'oneworld',\n",
       " ',',\n",
       " 'and',\n",
       " 'these',\n",
       " 'three',\n",
       " 'collect',\n",
       " 'account',\n",
       " 'for',\n",
       " 'more',\n",
       " 'than',\n",
       " '60',\n",
       " '%',\n",
       " 'of',\n",
       " 'global',\n",
       " 'commerci',\n",
       " 'air',\n",
       " 'traffic',\n",
       " 'in',\n",
       " '2015',\n",
       " '.',\n",
       " 'airlin',\n",
       " 'allianc',\n",
       " 'coordin',\n",
       " 'their',\n",
       " 'passeng',\n",
       " 'servic',\n",
       " 'program',\n",
       " '(',\n",
       " 'such',\n",
       " 'as',\n",
       " 'loung',\n",
       " 'and',\n",
       " 'frequent-fly',\n",
       " 'program',\n",
       " ')',\n",
       " ',',\n",
       " 'offer',\n",
       " 'special',\n",
       " 'interlin',\n",
       " 'ticket',\n",
       " 'and',\n",
       " 'often',\n",
       " 'engag',\n",
       " 'in',\n",
       " 'extens',\n",
       " 'codeshar',\n",
       " '(',\n",
       " 'sometim',\n",
       " 'systemwid',\n",
       " ')',\n",
       " '.',\n",
       " 'As',\n",
       " 'of',\n",
       " '2019',\n",
       " ',',\n",
       " 'the',\n",
       " 'largest',\n",
       " 'airlin',\n",
       " 'by',\n",
       " 'passeng',\n",
       " 'carri',\n",
       " 'and',\n",
       " 'fleet',\n",
       " 'size',\n",
       " 'wa',\n",
       " 'the',\n",
       " 'american',\n",
       " 'airlin',\n",
       " 'group',\n",
       " ',',\n",
       " 'while',\n",
       " 'delta',\n",
       " 'air',\n",
       " 'line',\n",
       " 'wa',\n",
       " 'the',\n",
       " 'largest',\n",
       " 'by',\n",
       " 'revenu',\n",
       " '.',\n",
       " 'lufthansa',\n",
       " 'group',\n",
       " 'wa',\n",
       " 'the',\n",
       " 'largest',\n",
       " 'by',\n",
       " 'number',\n",
       " 'of',\n",
       " 'employe',\n",
       " ',',\n",
       " 'fedex',\n",
       " 'express',\n",
       " 'by',\n",
       " 'freight',\n",
       " 'tonne-kilometr',\n",
       " ',',\n",
       " 'turkish',\n",
       " 'airlin',\n",
       " 'by',\n",
       " 'number',\n",
       " 'of',\n",
       " 'countri',\n",
       " 'serv',\n",
       " 'and',\n",
       " 'up',\n",
       " 'airlin',\n",
       " 'by',\n",
       " 'number',\n",
       " 'of',\n",
       " 'destin',\n",
       " 'serv',\n",
       " '[',\n",
       " '9',\n",
       " ']',\n",
       " '(',\n",
       " 'though',\n",
       " 'unit',\n",
       " 'airlin',\n",
       " 'wa',\n",
       " 'the',\n",
       " 'largest',\n",
       " 'passeng',\n",
       " 'airlin',\n",
       " 'by',\n",
       " 'number',\n",
       " 'of',\n",
       " 'destin',\n",
       " 'serv',\n",
       " ')',\n",
       " '.']"
      ]
     },
     "execution_count": 10,
     "metadata": {},
     "output_type": "execute_result"
    }
   ],
   "source": [
    "#Stemming\n",
    "#importing nltk's porter stemmer \n",
    "from nltk.stem.porter import PorterStemmer \n",
    "from nltk.tokenize import word_tokenize \n",
    "stem1 = PorterStemmer() \n",
    "  \n",
    "# stem words in the list of tokenised words \n",
    "def s_words(text): \n",
    "    word_tokens = word_tokenize(text) \n",
    "    stems = [stem1.stem(word) for word in word_tokens] \n",
    "    return stems \n",
    "  \n",
    "text = \"\"\" An airline is a company that provides air transport services for traveling passengers and freight. \n",
    "Airlines utilize aircraft to supply these services and may form partnerships or alliances with other airlines for codeshare agreements, in which they both offer and operate the same flight. \n",
    "Generally, airline companies are recognized with an air operating certificate or license issued by a governmental aviation body. \n",
    "Airlines may be scheduled or charter operators. from the 1940s to 1980s and back to large-scale privatization following the mid-1980s.\n",
    "Since the 1980s, there has also been a trend of major airline mergers and the formation of airline alliances.\n",
    "The largest alliances are Star Alliance, SkyTeam and Oneworld, and these three collectively accounted for more than 60% of global commercial air traffic in 2015.\n",
    "Airline alliances coordinate their passenger service programs (such as lounges and frequent-flyer programs), offer special interline tickets and often engage in extensive codesharing (sometimes systemwide).\n",
    "As of 2019, the largest airline by passengers carried and fleet size was the American Airlines Group, while Delta Air Lines was the largest by revenue.\n",
    "Lufthansa Group was the largest by number of employees, FedEx Express by freight tonne-kilometres, Turkish Airlines by number of countries served and UPS Airlines by number of destinations served[9] (though United Airlines was the largest passenger airline by number of destinations served).\n",
    "\"\"\"\n",
    "s_words(text)"
   ]
  },
  {
   "cell_type": "code",
   "execution_count": 11,
   "metadata": {},
   "outputs": [
    {
     "name": "stderr",
     "output_type": "stream",
     "text": [
      "[nltk_data] Downloading package wordnet to\n",
      "[nltk_data]     C:\\Users\\Asus-2020\\AppData\\Roaming\\nltk_data...\n",
      "[nltk_data]   Package wordnet is already up-to-date!\n"
     ]
    },
    {
     "data": {
      "text/plain": [
       "['An',\n",
       " 'airline',\n",
       " 'be',\n",
       " 'a',\n",
       " 'company',\n",
       " 'that',\n",
       " 'provide',\n",
       " 'air',\n",
       " 'transport',\n",
       " 'service',\n",
       " 'for',\n",
       " 'travel',\n",
       " 'passengers',\n",
       " 'and',\n",
       " 'freight',\n",
       " '.',\n",
       " 'Airlines',\n",
       " 'utilize',\n",
       " 'aircraft',\n",
       " 'to',\n",
       " 'supply',\n",
       " 'these',\n",
       " 'service',\n",
       " 'and',\n",
       " 'may',\n",
       " 'form',\n",
       " 'partnerships',\n",
       " 'or',\n",
       " 'alliances',\n",
       " 'with',\n",
       " 'other',\n",
       " 'airlines',\n",
       " 'for',\n",
       " 'codeshare',\n",
       " 'agreements',\n",
       " ',',\n",
       " 'in',\n",
       " 'which',\n",
       " 'they',\n",
       " 'both',\n",
       " 'offer',\n",
       " 'and',\n",
       " 'operate',\n",
       " 'the',\n",
       " 'same',\n",
       " 'flight',\n",
       " '.',\n",
       " 'Generally',\n",
       " ',',\n",
       " 'airline',\n",
       " 'company',\n",
       " 'be',\n",
       " 'recognize',\n",
       " 'with',\n",
       " 'an',\n",
       " 'air',\n",
       " 'operate',\n",
       " 'certificate',\n",
       " 'or',\n",
       " 'license',\n",
       " 'issue',\n",
       " 'by',\n",
       " 'a',\n",
       " 'governmental',\n",
       " 'aviation',\n",
       " 'body',\n",
       " '.',\n",
       " 'Airlines',\n",
       " 'may',\n",
       " 'be',\n",
       " 'schedule',\n",
       " 'or',\n",
       " 'charter',\n",
       " 'operators',\n",
       " '.',\n",
       " 'from',\n",
       " 'the',\n",
       " '1940s',\n",
       " 'to',\n",
       " '1980s',\n",
       " 'and',\n",
       " 'back',\n",
       " 'to',\n",
       " 'large-scale',\n",
       " 'privatization',\n",
       " 'follow',\n",
       " 'the',\n",
       " 'mid-1980s',\n",
       " '.',\n",
       " 'Since',\n",
       " 'the',\n",
       " '1980s',\n",
       " ',',\n",
       " 'there',\n",
       " 'have',\n",
       " 'also',\n",
       " 'be',\n",
       " 'a',\n",
       " 'trend',\n",
       " 'of',\n",
       " 'major',\n",
       " 'airline',\n",
       " 'mergers',\n",
       " 'and',\n",
       " 'the',\n",
       " 'formation',\n",
       " 'of',\n",
       " 'airline',\n",
       " 'alliances',\n",
       " '.',\n",
       " 'The',\n",
       " 'largest',\n",
       " 'alliances',\n",
       " 'be',\n",
       " 'Star',\n",
       " 'Alliance',\n",
       " ',',\n",
       " 'SkyTeam',\n",
       " 'and',\n",
       " 'Oneworld',\n",
       " ',',\n",
       " 'and',\n",
       " 'these',\n",
       " 'three',\n",
       " 'collectively',\n",
       " 'account',\n",
       " 'for',\n",
       " 'more',\n",
       " 'than',\n",
       " '60',\n",
       " '%',\n",
       " 'of',\n",
       " 'global',\n",
       " 'commercial',\n",
       " 'air',\n",
       " 'traffic',\n",
       " 'in',\n",
       " '2015',\n",
       " '.',\n",
       " 'Airline',\n",
       " 'alliances',\n",
       " 'coordinate',\n",
       " 'their',\n",
       " 'passenger',\n",
       " 'service',\n",
       " 'program',\n",
       " '(',\n",
       " 'such',\n",
       " 'as',\n",
       " 'lounge',\n",
       " 'and',\n",
       " 'frequent-flyer',\n",
       " 'program',\n",
       " ')',\n",
       " ',',\n",
       " 'offer',\n",
       " 'special',\n",
       " 'interline',\n",
       " 'ticket',\n",
       " 'and',\n",
       " 'often',\n",
       " 'engage',\n",
       " 'in',\n",
       " 'extensive',\n",
       " 'codesharing',\n",
       " '(',\n",
       " 'sometimes',\n",
       " 'systemwide',\n",
       " ')',\n",
       " '.',\n",
       " 'As',\n",
       " 'of',\n",
       " '2019',\n",
       " ',',\n",
       " 'the',\n",
       " 'largest',\n",
       " 'airline',\n",
       " 'by',\n",
       " 'passengers',\n",
       " 'carry',\n",
       " 'and',\n",
       " 'fleet',\n",
       " 'size',\n",
       " 'be',\n",
       " 'the',\n",
       " 'American',\n",
       " 'Airlines',\n",
       " 'Group',\n",
       " ',',\n",
       " 'while',\n",
       " 'Delta',\n",
       " 'Air',\n",
       " 'Lines',\n",
       " 'be',\n",
       " 'the',\n",
       " 'largest',\n",
       " 'by',\n",
       " 'revenue',\n",
       " '.',\n",
       " 'Lufthansa',\n",
       " 'Group',\n",
       " 'be',\n",
       " 'the',\n",
       " 'largest',\n",
       " 'by',\n",
       " 'number',\n",
       " 'of',\n",
       " 'employees',\n",
       " ',',\n",
       " 'FedEx',\n",
       " 'Express',\n",
       " 'by',\n",
       " 'freight',\n",
       " 'tonne-kilometres',\n",
       " ',',\n",
       " 'Turkish',\n",
       " 'Airlines',\n",
       " 'by',\n",
       " 'number',\n",
       " 'of',\n",
       " 'countries',\n",
       " 'serve',\n",
       " 'and',\n",
       " 'UPS',\n",
       " 'Airlines',\n",
       " 'by',\n",
       " 'number',\n",
       " 'of',\n",
       " 'destinations',\n",
       " 'serve',\n",
       " '[',\n",
       " '9',\n",
       " ']',\n",
       " '(',\n",
       " 'though',\n",
       " 'United',\n",
       " 'Airlines',\n",
       " 'be',\n",
       " 'the',\n",
       " 'largest',\n",
       " 'passenger',\n",
       " 'airline',\n",
       " 'by',\n",
       " 'number',\n",
       " 'of',\n",
       " 'destinations',\n",
       " 'serve',\n",
       " ')',\n",
       " '.']"
      ]
     },
     "execution_count": 11,
     "metadata": {},
     "output_type": "execute_result"
    }
   ],
   "source": [
    "#Lemmatization\n",
    "from nltk.stem import wordnet \n",
    "from nltk.tokenize import word_tokenize \n",
    "lemma = wordnet.WordNetLemmatizer()\n",
    "nltk.download('wordnet')\n",
    "# lemmatize string \n",
    "def lemmatize_word(text): \n",
    "    word_tokens = word_tokenize(text) \n",
    "    # provide context i.e. part-of-speech(pos)\n",
    "    lemmas = [lemma.lemmatize(word, pos ='v') for word in word_tokens] \n",
    "    return lemmas \n",
    "  \n",
    "text = \"\"\" An airline is a company that provides air transport services for traveling passengers and freight. \n",
    "Airlines utilize aircraft to supply these services and may form partnerships or alliances with other airlines for codeshare agreements, in which they both offer and operate the same flight. \n",
    "Generally, airline companies are recognized with an air operating certificate or license issued by a governmental aviation body. \n",
    "Airlines may be scheduled or charter operators. from the 1940s to 1980s and back to large-scale privatization following the mid-1980s.\n",
    "Since the 1980s, there has also been a trend of major airline mergers and the formation of airline alliances.\n",
    "The largest alliances are Star Alliance, SkyTeam and Oneworld, and these three collectively accounted for more than 60% of global commercial air traffic in 2015.\n",
    "Airline alliances coordinate their passenger service programs (such as lounges and frequent-flyer programs), offer special interline tickets and often engage in extensive codesharing (sometimes systemwide).\n",
    "As of 2019, the largest airline by passengers carried and fleet size was the American Airlines Group, while Delta Air Lines was the largest by revenue.\n",
    "Lufthansa Group was the largest by number of employees, FedEx Express by freight tonne-kilometres, Turkish Airlines by number of countries served and UPS Airlines by number of destinations served[9] (though United Airlines was the largest passenger airline by number of destinations served).\n",
    "\"\"\"\n",
    "lemmatize_word(text)"
   ]
  },
  {
   "cell_type": "code",
   "execution_count": 12,
   "metadata": {},
   "outputs": [
    {
     "name": "stderr",
     "output_type": "stream",
     "text": [
      "[nltk_data] Downloading package averaged_perceptron_tagger to\n",
      "[nltk_data]     C:\\Users\\Asus-2020\\AppData\\Roaming\\nltk_data...\n",
      "[nltk_data]   Package averaged_perceptron_tagger is already up-to-\n",
      "[nltk_data]       date!\n"
     ]
    },
    {
     "data": {
      "text/plain": [
       "[('An', 'DT'),\n",
       " ('airline', 'NN'),\n",
       " ('is', 'VBZ'),\n",
       " ('a', 'DT'),\n",
       " ('company', 'NN'),\n",
       " ('that', 'WDT'),\n",
       " ('provides', 'VBZ'),\n",
       " ('air', 'NN'),\n",
       " ('transport', 'NN'),\n",
       " ('services', 'NNS'),\n",
       " ('for', 'IN'),\n",
       " ('traveling', 'VBG'),\n",
       " ('passengers', 'NNS'),\n",
       " ('and', 'CC'),\n",
       " ('freight.Airlines', 'NNS'),\n",
       " ('utilize', 'VBP'),\n",
       " ('aircraft', 'NN'),\n",
       " ('to', 'TO'),\n",
       " ('supply', 'VB'),\n",
       " ('these', 'DT'),\n",
       " ('services', 'NNS'),\n",
       " ('and', 'CC'),\n",
       " ('may', 'MD'),\n",
       " ('form', 'VB'),\n",
       " ('partnerships', 'NNS'),\n",
       " ('or', 'CC'),\n",
       " ('alliances', 'NNS'),\n",
       " ('with', 'IN'),\n",
       " ('other', 'JJ'),\n",
       " ('airlines', 'NNS'),\n",
       " ('for', 'IN'),\n",
       " ('codeshare', 'NN'),\n",
       " ('agreements', 'NNS'),\n",
       " (',', ','),\n",
       " ('in', 'IN'),\n",
       " ('which', 'WDT'),\n",
       " ('they', 'PRP'),\n",
       " ('both', 'DT'),\n",
       " ('offer', 'VBP'),\n",
       " ('and', 'CC'),\n",
       " ('operate', 'VBP'),\n",
       " ('the', 'DT'),\n",
       " ('same', 'JJ'),\n",
       " ('flight', 'NN'),\n",
       " ('.', '.')]"
      ]
     },
     "execution_count": 12,
     "metadata": {},
     "output_type": "execute_result"
    }
   ],
   "source": [
    "#POS tagging(parts of speech)\n",
    "#nltk average perceptron tagger\n",
    "# importing tokenize library\n",
    "from nltk.tokenize import word_tokenize \n",
    "from nltk import pos_tag \n",
    "nltk.download('averaged_perceptron_tagger')\n",
    "  \n",
    "# convert text into word_tokens with their tags \n",
    "def pos_tagg(text): \n",
    "    word_tokens = word_tokenize(text) \n",
    "    return pos_tag(word_tokens) \n",
    "  \n",
    "pos_tagg(\"\"\"An airline is a company that provides air transport services for traveling passengers and freight.Airlines utilize aircraft to supply these services and may form partnerships or alliances with other airlines for codeshare agreements, in which they both offer and operate the same flight. \"\"\") "
   ]
  },
  {
   "cell_type": "code",
   "execution_count": 13,
   "metadata": {},
   "outputs": [
    {
     "name": "stderr",
     "output_type": "stream",
     "text": [
      "[nltk_data] Downloading package tagsets to\n",
      "[nltk_data]     C:\\Users\\Asus-2020\\AppData\\Roaming\\nltk_data...\n",
      "[nltk_data]   Unzipping help\\tagsets.zip.\n"
     ]
    },
    {
     "name": "stdout",
     "output_type": "stream",
     "text": [
      "PRP: pronoun, personal\n",
      "    hers herself him himself hisself it itself me myself one oneself ours\n",
      "    ourselves ownself self she thee theirs them themselves they thou thy us\n"
     ]
    }
   ],
   "source": [
    "#nltk tagset\n",
    "# downloading the tagset  \n",
    "nltk.download('tagsets') \n",
    "  \n",
    "# extract information about the tag \n",
    "nltk.help.upenn_tagset('PRP')"
   ]
  },
  {
   "cell_type": "code",
   "execution_count": 16,
   "metadata": {},
   "outputs": [
    {
     "name": "stdout",
     "output_type": "stream",
     "text": [
      "(S\n",
      "  (NP An/DT airline/NN)\n",
      "  is/VBZ\n",
      "  (NP a/DT company/NN)\n",
      "  that/WDT\n",
      "  provides/VBZ\n",
      "  (NP air/NN)\n",
      "  (NP transport/NN)\n",
      "  services/NNS\n",
      "  for/IN\n",
      "  traveling/VBG\n",
      "  passengers/NNS\n",
      "  and/CC\n",
      "  freight.Airlines/NNS\n",
      "  utilize/VBP\n",
      "  (NP aircraft/NN)\n",
      "  to/TO\n",
      "  supply/VB\n",
      "  these/DT\n",
      "  services/NNS\n",
      "  and/CC\n",
      "  may/MD\n",
      "  form/VB\n",
      "  partnerships/NNS\n",
      "  or/CC\n",
      "  alliances/NNS\n",
      "  with/IN\n",
      "  other/JJ\n",
      "  airlines/NNS\n",
      "  for/IN\n",
      "  (NP codeshare/NN)\n",
      "  agreements/NNS\n",
      "  ,/,\n",
      "  in/IN\n",
      "  which/WDT\n",
      "  they/PRP\n",
      "  both/DT\n",
      "  offer/VBP\n",
      "  and/CC\n",
      "  operate/VBP\n",
      "  (NP the/DT same/JJ flight/NN)\n",
      "  ./.)\n",
      "(NP An/DT airline/NN)\n",
      "(NP a/DT company/NN)\n",
      "(NP air/NN)\n",
      "(NP transport/NN)\n",
      "(NP aircraft/NN)\n",
      "(NP codeshare/NN)\n",
      "(NP the/DT same/JJ flight/NN)\n"
     ]
    }
   ],
   "source": [
    "#Chunking - Chunking is the process of extracting phrases from the Unstructured text and give them more structure to it.\n",
    "#importing libraries\n",
    "from nltk.tokenize import word_tokenize  \n",
    "from nltk import pos_tag \n",
    "  \n",
    "# here we define chunking function with text and regular \n",
    "# expressions representing grammar as parameter \n",
    "def chunking(text, grammar): \n",
    "    word_tokens = word_tokenize(text) \n",
    "  \n",
    "    # label words with pos \n",
    "    word_pos = pos_tag(word_tokens) \n",
    "  \n",
    "    # create chunk parser using grammar \n",
    "    chunkParser = nltk.RegexpParser(grammar) \n",
    "  \n",
    "    # test it on the list of word tokens with tagged pos \n",
    "    tree = chunkParser.parse(word_pos) \n",
    "      \n",
    "    for subtree in tree.subtrees(): \n",
    "        print(subtree) \n",
    "    #tree.draw() \n",
    "      \n",
    "sentence = \"\"\"An airline is a company that provides air transport services for traveling passengers and freight.Airlines utilize aircraft to supply these services and may form partnerships or alliances with other airlines for codeshare agreements, in which they both offer and operate the same flight. \"\"\"\n",
    "grammar = \"NP: {<DT>?<JJ>*<NN>}\"\n",
    "chunking(sentence, grammar) "
   ]
  },
  {
   "cell_type": "code",
   "execution_count": 17,
   "metadata": {},
   "outputs": [
    {
     "name": "stderr",
     "output_type": "stream",
     "text": [
      "[nltk_data] Downloading package maxent_ne_chunker to\n",
      "[nltk_data]     C:\\Users\\Asus-2020\\AppData\\Roaming\\nltk_data...\n",
      "[nltk_data]   Package maxent_ne_chunker is already up-to-date!\n",
      "[nltk_data] Downloading package words to\n",
      "[nltk_data]     C:\\Users\\Asus-2020\\AppData\\Roaming\\nltk_data...\n",
      "[nltk_data]   Package words is already up-to-date!\n"
     ]
    },
    {
     "name": "stdout",
     "output_type": "stream",
     "text": [
      "(S\n",
      "  (PERSON Sachin/NNP)\n",
      "  (PERSON Tendulkar/NNP)\n",
      "  is/VBZ\n",
      "  the/DT\n",
      "  highest/JJS\n",
      "  run/NN\n",
      "  scorer/NN\n",
      "  in/IN\n",
      "  the/DT\n",
      "  internationl/NN\n",
      "  cricket/NN\n",
      "  and/CC\n",
      "  he/PRP\n",
      "  belongs/VBZ\n",
      "  to/TO\n",
      "  the/DT\n",
      "  (GPE Indian/JJ)\n",
      "  team/NN)\n"
     ]
    }
   ],
   "source": [
    "#NER - Named Entity Recognition\n",
    "#Importing tokenization and chunk\n",
    "from nltk.tokenize import word_tokenize \n",
    "from nltk import pos_tag, ne_chunk \n",
    "nltk.download('maxent_ne_chunker')\n",
    "nltk.download('words')\n",
    "  \n",
    "def ner(text): \n",
    "    # tokenize the text \n",
    "    word_tokens = word_tokenize(text) \n",
    "  \n",
    "    # pos tagging of words \n",
    "    word_pos = pos_tag(word_tokens) \n",
    "  \n",
    "    # tree of word entities \n",
    "    print(ne_chunk(word_pos)) \n",
    "  \n",
    "text = 'Sachin Tendulkar is the highest run scorer in the internationl cricket and he belongs to the Indian team'\n",
    "ner(text) "
   ]
  },
  {
   "cell_type": "code",
   "execution_count": 20,
   "metadata": {},
   "outputs": [
    {
     "name": "stdout",
     "output_type": "stream",
     "text": [
      "['SachinTendulkar10']\n"
     ]
    }
   ],
   "source": [
    "#Regex\n",
    "import re\n",
    "sent = \"SachinTendulkar10 is the highest run scorer in the internationl cricket and he belongs to the Indian team\"\n",
    "r2 = re.findall(r\"^\\w+\",sent)\n",
    "print(r2)"
   ]
  },
  {
   "cell_type": "code",
   "execution_count": 21,
   "metadata": {},
   "outputs": [
    {
     "name": "stdout",
     "output_type": "stream",
     "text": [
      "['S']\n"
     ]
    }
   ],
   "source": [
    "#Regex\n",
    "import re\n",
    "sent = \"SachinTendulkar10 is the highest run scorer in the internationl cricket and he belongs to the Indian team\"\n",
    "r2 = re.findall(r\"^\\w\",sent)\n",
    "print(r2)"
   ]
  },
  {
   "cell_type": "code",
   "execution_count": 22,
   "metadata": {},
   "outputs": [
    {
     "name": "stdout",
     "output_type": "stream",
     "text": [
      "['Sachin', 'Tendulkar', 'is', 'the', 'highest', 'run', 'scorer', 'in', 'the', 'internationl', 'cricket', 'and', 'he', 'belongs', 'to', 'the', 'Indian', 'team']\n"
     ]
    }
   ],
   "source": [
    "#regex split\n",
    "import re\n",
    "\n",
    "print((re.split(r'\\s','Sachin Tendulkar is the highest run scorer in the internationl cricket and he belongs to the Indian team')))"
   ]
  },
  {
   "cell_type": "code",
   "execution_count": 23,
   "metadata": {},
   "outputs": [
    {
     "name": "stdout",
     "output_type": "stream",
     "text": [
      "['Sachin Tendulkar i', ' the highe', 't run ', 'corer in the internationl cricket and he belong', ' to the Indian team']\n"
     ]
    }
   ],
   "source": [
    "import re\n",
    "\n",
    "print((re.split(r's','Sachin Tendulkar is the highest run scorer in the internationl cricket and he belongs to the Indian team')))"
   ]
  },
  {
   "cell_type": "code",
   "execution_count": 27,
   "metadata": {},
   "outputs": [
    {
     "name": "stdout",
     "output_type": "stream",
     "text": [
      "('island', 'iceland')\n"
     ]
    }
   ],
   "source": [
    "#Regex methods\n",
    "#re.match\n",
    "import re\n",
    "\n",
    "lists = ['Icetea','Icehockey','iceland','ice','icecoffee','island','island iceland']\n",
    "\n",
    "for i in lists:\n",
    "    q = re.match(\"(i\\w+)\\W(i\\w+)\", i)\n",
    "    \n",
    "    if q:\n",
    "        print((q.groups()))"
   ]
  },
  {
   "cell_type": "code",
   "execution_count": 28,
   "metadata": {},
   "outputs": [
    {
     "name": "stdout",
     "output_type": "stream",
     "text": [
      "You're looking for 'playing' in 'Sachin is playing outside.' Found match!\n",
      "You're looking for 'cricket' in 'Sachin is playing outside.' no match found!\n"
     ]
    }
   ],
   "source": [
    "#re.search\n",
    "import re\n",
    "\n",
    "pattern = [\"playing\", \"cricket\"]\n",
    "text = \"Sachin is playing outside.\"\n",
    "\n",
    "for p in pattern:\n",
    "    print(\"You're looking for '%s' in '%s'\" %(p, text), end = ' ')\n",
    "    \n",
    "    if re.search(p, text):\n",
    "        print('Found match!')\n",
    "        \n",
    "    else:\n",
    "        print(\"no match found!\")"
   ]
  },
  {
   "cell_type": "code",
   "execution_count": 30,
   "metadata": {},
   "outputs": [
    {
     "name": "stdout",
     "output_type": "stream",
     "text": [
      "ar@xyz.ai\n",
      "ja@xyz.ai\n",
      "jr@xyz.ai\n",
      "sd@xyz.ai\n",
      "ar@gmail.com\n",
      "aj@yahoo.com\n"
     ]
    }
   ],
   "source": [
    "#re.findall\n",
    "import re\n",
    "\n",
    "kgf = \"ar@xyz.ai, ja@xyz.ai, jr@xyz.ai, sd@xyz.ai,ar@gmail.com,aj@yahoo.com\"\n",
    "\n",
    "emails = re.findall(r'[\\w\\.-]+@[\\w\\.-]+', kgf)\n",
    "\n",
    "for e in emails:\n",
    "    print(e)"
   ]
  },
  {
   "cell_type": "code",
   "execution_count": 35,
   "metadata": {},
   "outputs": [
    {
     "name": "stdout",
     "output_type": "stream",
     "text": [
      "['a', 'c', 't', 'p', 'A', 'u', 'a']\n"
     ]
    }
   ],
   "source": [
    "import re\n",
    "\n",
    "aa = \"\"\" An \n",
    "airline \n",
    "company \n",
    "that \n",
    "provides \n",
    "Airlines \n",
    "utilize \n",
    "aviation \"\"\"\n",
    "\n",
    "q1 = re.findall(r\"^\\w\", aa)\n",
    "q2 = re.findall(r\"^\\w\", aa, re.MULTILINE)\n",
    "#print(q1)\n",
    "print(q2)"
   ]
  },
  {
   "cell_type": "code",
   "execution_count": 39,
   "metadata": {},
   "outputs": [
    {
     "data": {
      "text/plain": [
       "\"'There is no need to panic. We need to work together, take small yet important measures to ensure self-protection,' the Prime Minister tweeted.\""
      ]
     },
     "execution_count": 39,
     "metadata": {},
     "output_type": "execute_result"
    }
   ],
   "source": [
    "#Text Normalization\n",
    "#tmrw,2morow,tmw,tomm - tommorow(normalized word)\n",
    "#b4,bfre,bfe - before(normalized word)\n",
    "#:-), :) - smile(normalized word)\n",
    "from nltk.tokenize.regexp import WhitespaceTokenizer\n",
    "m = \"'There is no need to panic. We need to work together, take small yet important measures to ensure self-protection,' the Prime Minister tweeted.\"\n",
    "m"
   ]
  },
  {
   "cell_type": "code",
   "execution_count": 40,
   "metadata": {},
   "outputs": [
    {
     "name": "stdout",
     "output_type": "stream",
     "text": [
      "23\n"
     ]
    }
   ],
   "source": [
    "tokens = WhitespaceTokenizer().tokenize(m)\n",
    "print(len(tokens))"
   ]
  },
  {
   "cell_type": "code",
   "execution_count": 41,
   "metadata": {},
   "outputs": [
    {
     "data": {
      "text/plain": [
       "[\"'There\",\n",
       " 'is',\n",
       " 'no',\n",
       " 'need',\n",
       " 'to',\n",
       " 'panic.',\n",
       " 'We',\n",
       " 'need',\n",
       " 'to',\n",
       " 'work',\n",
       " 'together,',\n",
       " 'take',\n",
       " 'small',\n",
       " 'yet',\n",
       " 'important',\n",
       " 'measures',\n",
       " 'to',\n",
       " 'ensure',\n",
       " \"self-protection,'\",\n",
       " 'the',\n",
       " 'Prime',\n",
       " 'Minister',\n",
       " 'tweeted.']"
      ]
     },
     "execution_count": 41,
     "metadata": {},
     "output_type": "execute_result"
    }
   ],
   "source": [
    "tokens"
   ]
  },
  {
   "cell_type": "code",
   "execution_count": 42,
   "metadata": {},
   "outputs": [
    {
     "name": "stdout",
     "output_type": "stream",
     "text": [
      "23\n"
     ]
    }
   ],
   "source": [
    "my_vocab = set(tokens)\n",
    "print(len(tokens))"
   ]
  },
  {
   "cell_type": "code",
   "execution_count": 43,
   "metadata": {},
   "outputs": [
    {
     "data": {
      "text/plain": [
       "{\"'There\",\n",
       " 'Minister',\n",
       " 'Prime',\n",
       " 'We',\n",
       " 'ensure',\n",
       " 'important',\n",
       " 'is',\n",
       " 'measures',\n",
       " 'need',\n",
       " 'no',\n",
       " 'panic.',\n",
       " \"self-protection,'\",\n",
       " 'small',\n",
       " 'take',\n",
       " 'the',\n",
       " 'to',\n",
       " 'together,',\n",
       " 'tweeted.',\n",
       " 'work',\n",
       " 'yet'}"
      ]
     },
     "execution_count": 43,
     "metadata": {},
     "output_type": "execute_result"
    }
   ],
   "source": [
    "my_vocab"
   ]
  },
  {
   "cell_type": "code",
   "execution_count": 44,
   "metadata": {},
   "outputs": [
    {
     "name": "stdout",
     "output_type": "stream",
     "text": [
      "\n",
      "\n",
      "\n",
      "\n",
      "<FreqDist with 144 samples and 249 outcomes>\n"
     ]
    }
   ],
   "source": [
    "#Frequncy Distribution\n",
    "#from nltk.book import *\n",
    "import nltk\n",
    "#nltk.download('gutenberg')\n",
    "print(\"\\n\\n\\n\")\n",
    "text1 = \"\"\"An airline is a company that provides air transport services for traveling passengers and freight. \n",
    "Airlines utilize aircraft to supply these services and may form partnerships or alliances with other airlines for codeshare agreements, in which they both offer and operate the same flight. \n",
    "Generally, airline companies are recognized with an air operating certificate or license issued by a governmental aviation body. \n",
    "Airlines may be scheduled or charter operators. from the 1940s to 1980s and back to large-scale privatization following the mid-1980s.\n",
    "Since the 1980s, there has also been a trend of major airline mergers and the formation of airline alliances.\n",
    "The largest alliances are Star Alliance, SkyTeam and Oneworld, and these three collectively accounted for more than 60% of global commercial air traffic in 2015.\n",
    "Airline alliances coordinate their passenger service programs (such as lounges and frequent-flyer programs), offer special interline tickets and often engage in extensive codesharing (sometimes systemwide).\n",
    "As of 2019, the largest airline by passengers carried and fleet size was the American Airlines Group, while Delta Air Lines was the largest by revenue.\n",
    "Lufthansa Group was the largest by number of employees, FedEx Express by freight tonne-kilometres, Turkish Airlines by number of countries served and UPS Airlines by number of destinations served[9] (though United Airlines was the largest passenger airline by number of destinations served).\n",
    "\"\"\"\n",
    "freqDist = nltk.FreqDist(word_tokenize(text1))\n",
    "print(freqDist)"
   ]
  },
  {
   "cell_type": "code",
   "execution_count": 46,
   "metadata": {},
   "outputs": [
    {
     "name": "stdout",
     "output_type": "stream",
     "text": [
      "6\n"
     ]
    }
   ],
   "source": [
    "print(freqDist[\"airline\"])"
   ]
  },
  {
   "cell_type": "code",
   "execution_count": 47,
   "metadata": {},
   "outputs": [
    {
     "name": "stdout",
     "output_type": "stream",
     "text": [
      "<class 'dict_keys'>\n"
     ]
    }
   ],
   "source": [
    "words = freqDist.keys()\n",
    "print(type(words))"
   ]
  },
  {
   "cell_type": "code",
   "execution_count": 48,
   "metadata": {},
   "outputs": [
    {
     "name": "stdout",
     "output_type": "stream",
     "text": [
      "144\n"
     ]
    }
   ],
   "source": [
    "print(len(words))"
   ]
  },
  {
   "cell_type": "code",
   "execution_count": 51,
   "metadata": {},
   "outputs": [
    {
     "data": {
      "image/png": "[encoded data removed]",
      "text/plain": [
       "<Figure size 432x288 with 1 Axes>"
      ]
     },
     "metadata": {
      "needs_background": "light"
     },
     "output_type": "display_data"
    },
    {
     "data": {
      "text/plain": [
       "<matplotlib.axes._subplots.AxesSubplot at 0x267bb827848>"
      ]
     },
     "execution_count": 51,
     "metadata": {},
     "output_type": "execute_result"
    }
   ],
   "source": [
    "freqDist.plot(30)"
   ]
  },
  {
   "cell_type": "code",
   "execution_count": 54,
   "metadata": {},
   "outputs": [
    {
     "name": "stdout",
     "output_type": "stream",
     "text": [
      "1\n"
     ]
    }
   ],
   "source": [
    "from nltk import FreqDist\n",
    " \n",
    "sent = \"\"\"An airline is a company that provides air transport services for traveling passengers and freight. \n",
    "Airlines utilize aircraft to supply these services and may form partnerships or alliances with other airlines for codeshare agreements, in which they both offer and operate the same flight. \n",
    "Generally, airline companies are recognized with an air operating certificate or license issued by a governmental aviation body. \n",
    "Airlines may be scheduled or charter operators. from the 1940s to 1980s and back to large-scale privatization following the mid-1980s.\n",
    "Since the 1980s, there has also been a trend of major airline mergers and the formation of airline alliances.\n",
    "The largest alliances are Star Alliance, SkyTeam and Oneworld, and these three collectively accounted for more than 60% of global commercial air traffic in 2015.\n",
    "Airline alliances coordinate their passenger service programs (such as lounges and frequent-flyer programs), offer special interline tickets and often engage in extensive codesharing (sometimes systemwide).\n",
    "As of 2019, the largest airline by passengers carried and fleet size was the American Airlines Group, while Delta Air Lines was the largest by revenue.\n",
    "Lufthansa Group was the largest by number of employees, FedEx Express by freight tonne-kilometres, Turkish Airlines by number of countries served and UPS Airlines by number of destinations served[9] (though United Airlines was the largest passenger airline by number of destinations served).\n",
    "\"\"\"\n",
    " \n",
    "text_list = sent.split(\" \")\n",
    " \n",
    "freqDist = FreqDist(text_list)\n",
    "words = list(freqDist.keys())\n",
    " \n",
    "print(freqDist['aviation'])"
   ]
  },
  {
   "cell_type": "code",
   "execution_count": 57,
   "metadata": {},
   "outputs": [
    {
     "data": {
      "image/png": "[encoded data removed]",
      "text/plain": [
       "<Figure size 432x288 with 1 Axes>"
      ]
     },
     "metadata": {
      "needs_background": "light"
     },
     "output_type": "display_data"
    },
    {
     "data": {
      "text/plain": [
       "<matplotlib.axes._subplots.AxesSubplot at 0x267bbb351c8>"
      ]
     },
     "execution_count": 57,
     "metadata": {},
     "output_type": "execute_result"
    }
   ],
   "source": [
    "freqDist.plot(40)"
   ]
  },
  {
   "cell_type": "code",
   "execution_count": null,
   "metadata": {},
   "outputs": [],
   "source": []
  }
 ],
 "metadata": {
  "kernelspec": {
   "display_name": "Python 3",
   "language": "python",
   "name": "python3"
  },
  "language_info": {
   "codemirror_mode": {
    "name": "ipython",
    "version": 3
   },
   "file_extension": ".py",
   "mimetype": "text/x-python",
   "name": "python",
   "nbconvert_exporter": "python",
   "pygments_lexer": "ipython3",
   "version": "3.7.4"
  }
 },
 "nbformat": 4,
 "nbformat_minor": 2
}
